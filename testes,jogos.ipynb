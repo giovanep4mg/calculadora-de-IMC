{
 "cells": [
  {
   "cell_type": "markdown",
   "id": "74c5b4f7",
   "metadata": {},
   "source": [
    "# Problema 1\n",
    "#2 - Meu salário por hora\n",
    "• Escreva um programa que retorne o valor \n",
    "hora de um funcionário com base no seu \n",
    "salário mensal e horas trabalhadas por \n",
    "mês."
   ]
  },
  {
   "cell_type": "code",
   "execution_count": 1,
   "id": "2a8828ee",
   "metadata": {},
   "outputs": [
    {
     "data": {
      "text/plain": [
       "'salario_hora\\nvalor_hora\\nsalario_mensal\\nhoras_trabalhadas'"
      ]
     },
     "execution_count": 1,
     "metadata": {},
     "output_type": "execute_result"
    }
   ],
   "source": [
    "# dados que tenho que pegar\n",
    "'''salario_hora\n",
    "valor_hora\n",
    "salario_mensal\n",
    "horas_trabalhadas'''\n"
   ]
  },
  {
   "cell_type": "code",
   "execution_count": 9,
   "id": "3199fd16",
   "metadata": {},
   "outputs": [
    {
     "name": "stdout",
     "output_type": "stream",
     "text": [
      "Digite o valor do seu salario mensal :  4000\n",
      "Digite quantas horas voce trabalha por dia :  8\n",
      "Digite quantos dias voce trabalha por mes :  24\n",
      "Você ganha por hora 20.833333333333332 !!!\n"
     ]
    }
   ],
   "source": [
    "salario = float(input('Digite o valor do seu salario mensal :  '))\n",
    "\n",
    "horas = float(input('Digite quantas horas voce trabalha por dia :  '))\n",
    "\n",
    "dias_trabalhados = float(input('Digite quantos dias voce trabalha por mes :  '))\n",
    "\n",
    "horas_mes = horas * dias_trabalhados\n",
    "\n",
    "x = salario_hora = salario / horas_mes\n",
    "\n",
    "\n",
    "print(f'Você ganha por hora {x} !!!')\n",
    "\n",
    "\n"
   ]
  },
  {
   "cell_type": "markdown",
   "id": "96ee1bea",
   "metadata": {},
   "source": [
    "# Problem 2\n",
    "Escreva um programa que, ao iniciar gera um \n",
    "valor aleatório de 1 a 10 e permite que o usuário \n",
    "chute um número até que o valor aleatório gerado \n",
    "no início do programa seja chutado corretamente.\n",
    "O programa deve informar se o chute foi acima, \n",
    "abaixo ou igual ao valor aleatório gerado no início \n",
    "do programa."
   ]
  },
  {
   "cell_type": "code",
   "execution_count": null,
   "id": "9fa56f59",
   "metadata": {},
   "outputs": [],
   "source": [
    "# valor aleatorio de 1 a 10 \n",
    "#usuario chuta um numero\n",
    "#avisar se acertou ou nao\n",
    "#ate que acerte o numero escolhido"
   ]
  },
  {
   "cell_type": "code",
   "execution_count": 10,
   "id": "d7491713",
   "metadata": {},
   "outputs": [
    {
     "name": "stdout",
     "output_type": "stream",
     "text": [
      "Digite um numero de 1 a 10 :  1\n",
      "Você errou\"!!!\n",
      "Você digitou algo errado!!! \n"
     ]
    }
   ],
   "source": [
    "num = int(input('Digite um numero de 1 a 10 :  '))\n",
    "\n",
    "if num == 1:\n",
    "    print('Você errou\"!!!')\n",
    "elif num == 2:\n",
    "    print('Você errou!!! ')\n",
    "elif num == 3:\n",
    "    print('Você errou!!! ')\n",
    "elif num == 4:\n",
    "    print('Você errou!!! ')\n",
    "elif num == 5:\n",
    "    print('Você errou!!! ')\n",
    "if num == 6:\n",
    "    print('Você acertouuuuu  !!!')\n",
    "elif num == 7:\n",
    "    print('Você errou!!! ')\n",
    "elif num == 8:\n",
    "    print('Você errou!!! ')\n",
    "elif num == 9:\n",
    "    print('Você errou!!! ')\n",
    "elif num == 10:\n",
    "    print('Você errou!!!')\n",
    "else:\n",
    "    print('Você digitou algo errado!!! ')\n",
    "\n",
    "\n",
    "\n",
    "\n",
    "\n",
    "\n"
   ]
  },
  {
   "cell_type": "code",
   "execution_count": null,
   "id": "4759e0b0",
   "metadata": {},
   "outputs": [],
   "source": []
  },
  {
   "cell_type": "code",
   "execution_count": null,
   "id": "94fe14c2",
   "metadata": {},
   "outputs": [],
   "source": []
  },
  {
   "cell_type": "code",
   "execution_count": null,
   "id": "4e86b324",
   "metadata": {},
   "outputs": [],
   "source": []
  }
 ],
 "metadata": {
  "kernelspec": {
   "display_name": "Python 3 (ipykernel)",
   "language": "python",
   "name": "python3"
  },
  "language_info": {
   "codemirror_mode": {
    "name": "ipython",
    "version": 3
   },
   "file_extension": ".py",
   "mimetype": "text/x-python",
   "name": "python",
   "nbconvert_exporter": "python",
   "pygments_lexer": "ipython3",
   "version": "3.9.12"
  }
 },
 "nbformat": 4,
 "nbformat_minor": 5
}
