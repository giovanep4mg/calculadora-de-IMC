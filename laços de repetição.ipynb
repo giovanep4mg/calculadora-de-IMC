{
 "cells": [
  {
   "cell_type": "code",
   "execution_count": 2,
   "id": "65ea9ab4",
   "metadata": {},
   "outputs": [
    {
     "name": "stdout",
     "output_type": "stream",
     "text": [
      "0\n",
      "1\n",
      "2\n",
      "3\n",
      "4\n",
      "5\n",
      "6\n",
      "7\n",
      "8\n",
      "9\n"
     ]
    }
   ],
   "source": [
    "for n in range(10):\n",
    "    print(n)"
   ]
  },
  {
   "cell_type": "code",
   "execution_count": 3,
   "id": "4f666332",
   "metadata": {},
   "outputs": [
    {
     "name": "stdout",
     "output_type": "stream",
     "text": [
      "5\n",
      "6\n",
      "7\n",
      "8\n",
      "9\n",
      "10\n",
      "11\n",
      "12\n",
      "13\n",
      "14\n",
      "15\n",
      "16\n",
      "17\n",
      "18\n",
      "19\n"
     ]
    }
   ],
   "source": [
    "for n in range(5,20):\n",
    "    print(n)"
   ]
  },
  {
   "cell_type": "code",
   "execution_count": 9,
   "id": "e9f9dd7b",
   "metadata": {},
   "outputs": [
    {
     "name": "stdout",
     "output_type": "stream",
     "text": [
      "10\n",
      "9\n",
      "8\n",
      "7\n",
      "6\n",
      "5\n",
      "4\n",
      "3\n",
      "2\n",
      "1\n"
     ]
    }
   ],
   "source": [
    "for n in range(10,0,-1):\n",
    "    print(n)"
   ]
  },
  {
   "cell_type": "code",
   "execution_count": 10,
   "id": "834c87ab",
   "metadata": {},
   "outputs": [
    {
     "name": "stdout",
     "output_type": "stream",
     "text": [
      "1\n",
      "2\n",
      "3\n",
      "4\n",
      "5\n",
      "6\n",
      "7\n",
      "8\n",
      "9\n",
      "10\n",
      "11\n",
      "12\n",
      "13\n",
      "14\n",
      "15\n"
     ]
    }
   ],
   "source": [
    "x=1;\n",
    "while x<=15:\n",
    "    print(x);\n",
    "    x = x + 1"
   ]
  },
  {
   "cell_type": "code",
   "execution_count": 13,
   "id": "207869be",
   "metadata": {},
   "outputs": [
    {
     "name": "stdout",
     "output_type": "stream",
     "text": [
      "Digite um valor:  100\n",
      "Digite um valor;  150\n",
      "Digite um valor;  200\n",
      "Digite um valor;  500\n",
      "Digite um valor;  -150\n",
      " total da soma:950.0 \n",
      "quantidade de valores digitados :4 \n",
      " media dos valoes: 237.5 \n"
     ]
    }
   ],
   "source": [
    "quantidade = 0\n",
    "soma = 0\n",
    "media = 0\n",
    "valor = float(input('Digite um valor:  '))\n",
    "\n",
    "while(valor > 0.0):\n",
    "    soma = soma + valor\n",
    "    quantidade = quantidade +  1\n",
    "    # entrada de valores\n",
    "    valor = float(input('Digite um valor;  '))\n",
    "    \n",
    "    \n",
    "#caso digite um valor negativo o laço encerra\n",
    "media = soma/quantidade\n",
    "\n",
    "print(f' total da soma:{soma} ')\n",
    "print(f'quantidade de valores digitados :{quantidade} ')\n",
    "print(f' media dos valoes: {media} ')\n",
    "\n",
    "\n",
    "    \n",
    "\n",
    "\n",
    "\n"
   ]
  },
  {
   "cell_type": "code",
   "execution_count": 16,
   "id": "ad2969bb",
   "metadata": {
    "scrolled": true
   },
   "outputs": [
    {
     "name": "stdout",
     "output_type": "stream",
     "text": [
      "oi nego\n",
      "ola amor\n"
     ]
    }
   ],
   "source": [
    "def mensagem():\n",
    "    print('oi nego')\n",
    "    \n",
    "def mensagem1():\n",
    "    return \"ola amor\"\n",
    "\n",
    "\n",
    "mensagem()\n",
    "\n",
    "texto = mensagem1()\n",
    "\n",
    "print(texto)  "
   ]
  },
  {
   "cell_type": "code",
   "execution_count": 23,
   "id": "c71c7185",
   "metadata": {},
   "outputs": [
    {
     "name": "stdout",
     "output_type": "stream",
     "text": [
      "Aprovado!\n",
      "Digite a nota do aluno(a) :  5\n",
      "Digite a nota do aluno(a) :  5\n"
     ]
    },
    {
     "ename": "TypeError",
     "evalue": "resultado() missing 2 required positional arguments: 'n1' and 'n2'",
     "output_type": "error",
     "traceback": [
      "\u001b[1;31m---------------------------------------------------------------------------\u001b[0m",
      "\u001b[1;31mTypeError\u001b[0m                                 Traceback (most recent call last)",
      "Input \u001b[1;32mIn [23]\u001b[0m, in \u001b[0;36m<cell line: 19>\u001b[1;34m()\u001b[0m\n\u001b[0;32m     17\u001b[0m a\u001b[38;5;241m=\u001b[39m lernotas()\n\u001b[0;32m     18\u001b[0m b \u001b[38;5;241m=\u001b[39m  lernotas()\n\u001b[1;32m---> 19\u001b[0m \u001b[43mresultado\u001b[49m\u001b[43m(\u001b[49m\u001b[43m)\u001b[49m\n",
      "\u001b[1;31mTypeError\u001b[0m: resultado() missing 2 required positional arguments: 'n1' and 'n2'"
     ]
    }
   ],
   "source": [
    "def lernotas():\n",
    "    n= float(input('Digite a nota do aluno(a) :  '))\n",
    "    return\n",
    "    \n",
    "    \n",
    "def resultado (n1, n2):\n",
    "    media = (n1, n2) / 2\n",
    "    print(f' nota 1 {n1}')\n",
    "    print(f' nota 2 {n2} ')\n",
    "    print(f'media: {media}, resultado,  end= \"\"  ')\n",
    "    \n",
    "if media >= 7:\n",
    "    print('Aprovado!')\n",
    "else:\n",
    "    print('reprovado')\n",
    "    \n",
    "a= lernotas()\n",
    "b =  lernotas()\n",
    "resultado()\n",
    "\n",
    "    \n",
    "    \n",
    "    \n",
    "    \n",
    "    \n",
    "    \n",
    "    \n",
    "    \n",
    "    \n",
    "    \n",
    "    \n",
    "    \n",
    "    \n",
    "    \n",
    "    \n",
    "    "
   ]
  },
  {
   "cell_type": "code",
   "execution_count": null,
   "id": "bc65ff37",
   "metadata": {},
   "outputs": [],
   "source": []
  }
 ],
 "metadata": {
  "kernelspec": {
   "display_name": "Python 3 (ipykernel)",
   "language": "python",
   "name": "python3"
  },
  "language_info": {
   "codemirror_mode": {
    "name": "ipython",
    "version": 3
   },
   "file_extension": ".py",
   "mimetype": "text/x-python",
   "name": "python",
   "nbconvert_exporter": "python",
   "pygments_lexer": "ipython3",
   "version": "3.9.12"
  }
 },
 "nbformat": 4,
 "nbformat_minor": 5
}
